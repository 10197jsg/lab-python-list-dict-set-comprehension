{
 "cells": [
  {
   "cell_type": "markdown",
   "id": "25d7736c-ba17-4aff-b6bb-66eba20fbf4e",
   "metadata": {},
   "source": [
    "# Lab | List, Dict and Set Comprehension"
   ]
  },
  {
   "cell_type": "markdown",
   "id": "7dd3cbde-675a-4b81-92c3-f728846dbe06",
   "metadata": {},
   "source": [
    "## Exercise: Managing Customer Orders Optimized with Comprehension"
   ]
  },
  {
   "cell_type": "markdown",
   "id": "5d500160-2fb7-4777-b5e4-09d45ebaf328",
   "metadata": {},
   "source": [
    "In the previous exercise, you developed a program to manage customer orders and inventory. Now, let's take it a step further and incorporate comprehension into your code.\n",
    "\n",
    "Follow the steps below to complete the exercise:\n",
    "\n",
    "1. Review your code from the previous exercise and identify areas where you can apply comprehension to simplify and streamline your code. \n",
    "\n",
    "    - *Hint: Apply it to initialize inventory, updating the inventory and printing the updated inventory.*\n",
    "    \n",
    "    - For example, in initializing the inventory, we could have:\n",
    "    \n",
    "        ```python\n",
    "        def initialize_inventory(products):\n",
    "            inventory = {product: int(input(f\"Enter the quantity of {product}s available: \")) for product in products}\n",
    "            return inventory\n",
    "\n",
    "        ```\n",
    "<br>\n",
    "    \n",
    "    \n",
    "2. Modify the function get_customer_orders so it prompts the user to enter the number of customer orders and gathers the product names using a loop and user input. Use comprehension.\n",
    "\n",
    "3. Add a new function to calculate the total price of the customer order. For each product in customer_orders, prompt the user to enter the price of that product. Use comprehension to calculate the total price. Note: assume that the user can only have 1 unit of each product.\n",
    "\n",
    "4. Modify the update_inventory function to remove the product from the inventory if its quantity becomes zero after fulfilling the customer orders. Use comprehension to filter out the products with a quantity of zero from the inventory.\n",
    "\n",
    "5. Print the total price of the customer order.\n",
    "\n",
    "Your code should produce output similar to the following:\n",
    "\n",
    "```python\n",
    "Enter the quantity of t-shirts available:  5\n",
    "Enter the quantity of mugs available:  4\n",
    "Enter the quantity of hats available:  3\n",
    "Enter the quantity of books available:  2\n",
    "Enter the quantity of keychains available:  1\n",
    "Enter the number of customer orders:  2\n",
    "Enter the name of a product that a customer wants to order:  hat\n",
    "Enter the name of a product that a customer wants to order:  keychain\n",
    "\n",
    "Order Statistics:\n",
    "Total Products Ordered: 2\n",
    "Percentage of Unique Products Ordered: 40.0\n",
    "\n",
    "Updated Inventory:\n",
    "t-shirt: 5\n",
    "mug: 4\n",
    "hat: 2\n",
    "book: 2\n",
    "Enter the price of keychain:  5\n",
    "Enter the price of hat:  10\n",
    "Total Price: 15.0\n",
    "\n",
    "```\n"
   ]
  },
  {
   "cell_type": "code",
   "execution_count": 5,
   "id": "43051c42-baf4-411e-941b-8200f1d435f7",
   "metadata": {},
   "outputs": [
    {
     "name": "stdin",
     "output_type": "stream",
     "text": [
      "Enter the quantity of t-shirts available:  4\n",
      "Enter the price for t-shirt:  10\n",
      "Enter the quantity of mugs available:  3\n",
      "Enter the price for mug:  2\n",
      "Enter the quantity of hats available:  10\n",
      "Enter the price for hat:  30\n",
      "Enter the quantity of books available:  9\n",
      "Enter the price for book:  90\n",
      "Enter the quantity of keychains available:  4\n",
      "Enter the price for keychain:  3\n",
      "Enter the number of customer orders:  4\n",
      "Enter product 1 name:  mug\n",
      "Enter product 2 name:  hat\n",
      "Enter product 3 name:  t-shirt\n",
      "Enter product 4 name:  keychain\n"
     ]
    },
    {
     "name": "stdout",
     "output_type": "stream",
     "text": [
      "Updated Inventory: \n",
      "Product: t-shirt, Quantity: 3, Price: $10.00\n",
      "Product: mug, Quantity: 2, Price: $2.00\n",
      "Product: hat, Quantity: 9, Price: $30.00\n",
      "Product: book, Quantity: 9, Price: $90.00\n",
      "Product: keychain, Quantity: 3, Price: $3.00\n",
      "Total Price: 45.00 €\n"
     ]
    }
   ],
   "source": [
    "# Exercise: Managing Customer Orders Optimized with Comprehension\n",
    "\n",
    "# Step 1\n",
    "\n",
    "products = [\"t-shirt\", \"mug\", \"hat\", \"book\", \"keychain\"]\n",
    "\n",
    "def initialize_inventory(products):\n",
    "    # Initialize inventory as a list of dictionaries containing product info (product name, quantity, price)\n",
    "    inventory = [\n",
    "        {\"product\": product, \"quantity\": int(input(f\"Enter the quantity of {product}s available: \")), \"price\": float(input(f\"Enter the price for {product}: \"))}\n",
    "        for product in products\n",
    "    ]\n",
    "    return inventory\n",
    "\n",
    "# Step 2\n",
    "    \n",
    "def get_customer_orders():\n",
    "    num_orders = int(input(\"Enter the number of customer orders: \"))\n",
    "    customer_orders = [input(f\"Enter product {i+1} name: \") for i in range(num_orders)]\n",
    "    return customer_orders\n",
    "\n",
    "# Step 3\n",
    "    \n",
    "def calculate_total_price(customer_orders, inventory):\n",
    "    # Calculate the total price by checking the price from the inventory for each order\n",
    "    total_price = sum([next(item[\"price\"] for item in inventory if item[\"product\"] == order) for order in customer_orders])\n",
    "    return total_price\n",
    "\n",
    "# Step 4\n",
    "    \n",
    "def update_inventory(inventory, customer_orders):\n",
    "    # Update the inventory by reducing quantity for each order\n",
    "    for order in customer_orders:\n",
    "        for item in inventory:\n",
    "            if item[\"product\"] == order and item[\"quantity\"] > 0:\n",
    "                item[\"quantity\"] -= 1\n",
    "    return [item for item in inventory if item[\"quantity\"] > 0]  # Return updated inventory with remaining products\n",
    "\n",
    "# Step 5\n",
    "\n",
    "def main():\n",
    "    inventory = initialize_inventory(products)\n",
    "    \n",
    "    customer_orders = get_customer_orders()\n",
    "    \n",
    "    inventory = update_inventory(inventory, customer_orders)\n",
    "    \n",
    "    print(\"Updated Inventory: \")\n",
    "    for item in inventory:\n",
    "        print(f\"Product: {item['product']}, Quantity: {item['quantity']}, Price: {item['price']:.2f}€\")\n",
    "    \n",
    "    total_price = calculate_total_price(customer_orders, inventory)\n",
    "    print(f\"Total Price: {total_price:.2f} €\")\n",
    "\n",
    "if __name__ == \"__main__\":\n",
    "    main()"
   ]
  },
  {
   "cell_type": "code",
   "execution_count": null,
   "id": "ad9925bd-f5d7-45df-914f-f30ecbae6f3f",
   "metadata": {},
   "outputs": [],
   "source": []
  },
  {
   "cell_type": "code",
   "execution_count": null,
   "id": "e8f27a8c-3703-4b2b-9cd3-d146e0f72d95",
   "metadata": {},
   "outputs": [],
   "source": []
  }
 ],
 "metadata": {
  "kernelspec": {
   "display_name": "Python [conda env:base] *",
   "language": "python",
   "name": "conda-base-py"
  },
  "language_info": {
   "codemirror_mode": {
    "name": "ipython",
    "version": 3
   },
   "file_extension": ".py",
   "mimetype": "text/x-python",
   "name": "python",
   "nbconvert_exporter": "python",
   "pygments_lexer": "ipython3",
   "version": "3.12.7"
  }
 },
 "nbformat": 4,
 "nbformat_minor": 5
}
